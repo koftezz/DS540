{
 "cells": [
  {
   "cell_type": "code",
   "execution_count": 2,
   "metadata": {},
   "outputs": [],
   "source": [
    "import warnings\n",
    "warnings.filterwarnings(\"ignore\")\n",
    "import pandas as pd\n",
    "import numpy as np\n",
    "from sklearn.model_selection import train_test_split\n",
    "from sklearn.ensemble import RandomForestClassifier\n",
    "from sklearn.svm import SVC, LinearSVC\n",
    "from sklearn.naive_bayes import GaussianNB\n",
    "from sklearn.neighbors import KNeighborsClassifier\n",
    "from sklearn.neural_network import MLPClassifier\n",
    "from sklearn.tree import DecisionTreeClassifier\n",
    "from sklearn.ensemble import BaggingClassifier\n",
    "from sklearn.ensemble import GradientBoostingClassifier\n",
    "from sklearn.metrics import confusion_matrix, classification_report\n",
    "import seaborn as sns\n",
    "import matplotlib.pyplot as plt\n",
    "from sklearn.feature_selection import SelectKBest, chi2\n",
    "from sklearn.metrics import roc_auc_score\n",
    "from sklearn.feature_selection import RFE, SelectFromModel"
   ]
  },
  {
   "cell_type": "code",
   "execution_count": 3,
   "metadata": {},
   "outputs": [
    {
     "name": "stderr",
     "output_type": "stream",
     "text": [
      "C:\\Users\\batuhan.organ\\AppData\\Local\\Programs\\Python\\Python37\\lib\\site-packages\\IPython\\core\\interactiveshell.py:3051: DtypeWarning: Columns (3) have mixed types. Specify dtype option on import or set low_memory=False.\n",
      "  interactivity=interactivity, compiler=compiler, result=result)\n"
     ]
    }
   ],
   "source": [
    "data = pd.read_csv(\"./ad-dataset/ad.data\", header=None)\n",
    "data.rename(columns={0: 'height',\n",
    "                    1: 'width',\n",
    "                    2: 'ratio(width/height)',\n",
    "                    3: 'local',\n",
    "                    1558: 'y'}, inplace=True)"
   ]
  },
  {
   "cell_type": "code",
   "execution_count": 4,
   "metadata": {},
   "outputs": [],
   "source": [
    "# Replace categoricals with numerical\n",
    "data['y'].replace(('ad.', 'nonad.'), (1, 0), inplace=True)"
   ]
  },
  {
   "cell_type": "code",
   "execution_count": 5,
   "metadata": {},
   "outputs": [],
   "source": [
    "# Remove whitespace from the columns\n",
    "for col in data.columns:\n",
    "    if data[col].dtypes == 'O':\n",
    "        data[col] = data[col].str.replace(\" \",\"\")"
   ]
  },
  {
   "cell_type": "code",
   "execution_count": 6,
   "metadata": {},
   "outputs": [],
   "source": [
    "# Replace ? with nan\n",
    "data = data.replace('?', np.nan)"
   ]
  },
  {
   "cell_type": "code",
   "execution_count": 7,
   "metadata": {},
   "outputs": [],
   "source": [
    "# Change datatypes\n",
    "data = data.astype({\"height\": float, \"width\": float,\n",
    "                    \"ratio(width/height)\": float, 'local': float})"
   ]
  },
  {
   "cell_type": "code",
   "execution_count": 8,
   "metadata": {},
   "outputs": [
    {
     "data": {
      "text/plain": [
       "0    2820\n",
       "1     459\n",
       "Name: y, dtype: int64"
      ]
     },
     "execution_count": 8,
     "metadata": {},
     "output_type": "execute_result"
    }
   ],
   "source": [
    "# Dist of Prediction\n",
    "data.y.value_counts()"
   ]
  },
  {
   "cell_type": "code",
   "execution_count": 9,
   "metadata": {
    "scrolled": true
   },
   "outputs": [
    {
     "data": {
      "text/plain": [
       "779      0.000000\n",
       "1044     0.000000\n",
       "1043     0.000000\n",
       "1042     0.000000\n",
       "1041     0.000000\n",
       "          ...    \n",
       "523      0.000000\n",
       "1       27.477890\n",
       "0       27.538884\n",
       "2       27.752364\n",
       "3       37.999390\n",
       "Name: Na Percent, Length: 1559, dtype: float64"
      ]
     },
     "execution_count": 9,
     "metadata": {},
     "output_type": "execute_result"
    }
   ],
   "source": [
    "df = pd.DataFrame()\n",
    "\n",
    "for col in data.columns:\n",
    "    df.at[col, 'Na Percent'] = (data[col].isna().sum()/len(data))*100\n",
    "df.reset_index(inplace=True)\n",
    "df['Na Percent'].sort_values()"
   ]
  },
  {
   "cell_type": "markdown",
   "metadata": {},
   "source": [
    "This shows that first 4 columns are almost 30-40 percent na, we need to deal with them."
   ]
  },
  {
   "cell_type": "code",
   "execution_count": 10,
   "metadata": {},
   "outputs": [
    {
     "data": {
      "text/plain": [
       "1.0    1578\n",
       "0.0     455\n",
       "Name: local, dtype: int64"
      ]
     },
     "execution_count": 10,
     "metadata": {},
     "output_type": "execute_result"
    }
   ],
   "source": [
    "data['local'].value_counts()"
   ]
  },
  {
   "cell_type": "code",
   "execution_count": 11,
   "metadata": {},
   "outputs": [
    {
     "name": "stdout",
     "output_type": "stream",
     "text": [
      "Before na drop:  (3279, 1559)\n",
      "After na drop:  (3279, 1559)\n"
     ]
    }
   ],
   "source": [
    "# Replace nan with mean, for binary column replace with 1 since it is the most recurring element\n",
    "data['height'].fillna(data['height'].mean(), inplace=True)\n",
    "data['width'].fillna(data['width'].mean(), inplace=True)\n",
    "data['ratio(width/height)'].fillna(data['ratio(width/height)'].mean(), inplace=True)\n",
    "data['local'].fillna(1, inplace=True)\n",
    "\n",
    "print(\"Before na drop: \", data.shape)\n",
    "data.dropna(inplace=True)\n",
    "print(\"After na drop: \", data.shape)"
   ]
  },
  {
   "cell_type": "code",
   "execution_count": 12,
   "metadata": {},
   "outputs": [
    {
     "data": {
      "image/png": "[encoded data removed]",
      "text/plain": [
       "<Figure size 1152x720 with 4 Axes>"
      ]
     },
     "metadata": {
      "needs_background": "light"
     },
     "output_type": "display_data"
    }
   ],
   "source": [
    "# Plot continuous plots since except the first 4 features, rest is url features\n",
    "plot_num = 0\n",
    "columns_to_plot = ['height', 'width', 'ratio(width/height)', 'local']\n",
    "fig, axarr=plt.subplots(2, 2, figsize=(16,10))\n",
    "for i in range(2):\n",
    "        for j in range(2):\n",
    "            sns.boxplot(x='y', y=columns_to_plot[plot_num], data=data, ax=axarr[i][j])\n",
    "            plot_num+=1"
   ]
  },
  {
   "cell_type": "markdown",
   "metadata": {},
   "source": [
    "Width seems to be differs more than the others with respect to y value.\n",
    "\n",
    "I will try 5 scenarios (3 for the assignment, 2 for extra), firstly with all features, secondly with largest 10 features, thirdly, according to 80-20 rule, first n features which reaches the 80% of cumulative rank scores, fourthly with select from model, lastly with recursive feature selection  "
   ]
  },
  {
   "cell_type": "code",
   "execution_count": 13,
   "metadata": {},
   "outputs": [
    {
     "name": "stdout",
     "output_type": "stream",
     "text": [
      "Train_x Shape:  (2295, 1558)\n",
      "Train_y Shape:  (2295,)\n",
      "Test_x Shape:  (984, 1558)\n",
      "Test_y Shape:  (984,)\n"
     ]
    }
   ],
   "source": [
    "seed = 110\n",
    "labels = np.array(data['y'])\n",
    "df = data.copy()\n",
    "df = df.drop('y', axis=1)\n",
    "\n",
    "df_list = list(df.columns)\n",
    "\n",
    "train_x, test_x, train_y, test_y = train_test_split(df, labels, test_size = 0.3, random_state = seed)\n",
    "\n",
    "print (\"Train_x Shape: \",train_x.shape)\n",
    "print (\"Train_y Shape: \", train_y.shape)\n",
    "print (\"Test_x Shape: \", test_x.shape)\n",
    "print (\"Test_y Shape: \", test_y.shape)"
   ]
  },
  {
   "cell_type": "code",
   "execution_count": 14,
   "metadata": {
    "scrolled": true
   },
   "outputs": [
    {
     "name": "stdout",
     "output_type": "stream",
     "text": [
      "Calculating predictions..\n",
      "Model: svm\n",
      "Model: knn\n",
      "Model: naive bayes\n",
      "Model: gradient boosting\n",
      "Model: random forest\n",
      "Model: decision tree\n",
      "Model: bagging\n",
      "Calculating roc auc scores..\n",
      "svm                       : 0.972\n",
      "knn                       : 0.922\n",
      "naive bayes               : 0.844\n",
      "gradient boosting         : 0.961\n",
      "random forest             : 0.980\n",
      "decision tree             : 0.914\n",
      "bagging                   : 0.740\n"
     ]
    }
   ],
   "source": [
    "def get_models():\n",
    "    \n",
    "    dt = DecisionTreeClassifier(random_state=seed)\n",
    "    sgb = GradientBoostingClassifier(random_state=seed)\n",
    "    rf = RandomForestClassifier()\n",
    "    clf = BaggingClassifier(base_estimator=SVC(), n_estimators=100, random_state=seed)\n",
    "    nb = GaussianNB()\n",
    "    svc = SVC(C=10, probability=True)\n",
    "    knn = KNeighborsClassifier(n_neighbors=3)\n",
    "    \n",
    "    models = {'svm': svc,\n",
    "              'knn': knn,\n",
    "              'naive bayes': nb,\n",
    "              'gradient boosting': sgb,\n",
    "              'random forest': rf,\n",
    "              'decision tree': dt,\n",
    "              'bagging': clf\n",
    "              }\n",
    "\n",
    "    return models\n",
    "\n",
    "\n",
    "def prediction(model_list):\n",
    "    \n",
    "    pred = np.zeros((test_y.shape[0], len(model_list)))\n",
    "    pred = pd.DataFrame(pred)\n",
    "\n",
    "    print(\"Calculating predictions..\")\n",
    "    cols = list()\n",
    "    for i, (name, m) in enumerate(models.items()):\n",
    "        print(\"Model: %s\" % name)\n",
    "        m.fit(train_x, train_y)\n",
    "        pred.iloc[:, i] = m.predict_proba(test_x)[:, 1]\n",
    "        cols.append(name)\n",
    "        \n",
    "    pred.columns = cols\n",
    "    return pred\n",
    "\n",
    "\n",
    "def roc_auc_func(y, pred, scenario):\n",
    "    roc_scores = pd.DataFrame()\n",
    "    print(\"Calculating roc auc scores..\")\n",
    "    for i in pred.columns:\n",
    "        score = roc_auc_score(y, pred.loc[:, i])\n",
    "        roc_scores.at[i, scenario] = score\n",
    "        print(\"%-26s: %.3f\" % (i, score))\n",
    "    roc_scores.reset_index(inplace=True)\n",
    "    return roc_scores\n",
    "\n",
    "\n",
    "models = get_models()\n",
    "pred = prediction(models)\n",
    "roc_scores = roc_auc_func(test_y, pred, scenario=1)"
   ]
  },
  {
   "cell_type": "markdown",
   "metadata": {},
   "source": [
    "Scenario 1 was testing models with all features. It shows that except bagging, all the models performed pretty good, especially random forest, svm and gradient boosting over 96%. \n",
    "\n",
    "Now Scenario 2.. Using only 10 best features."
   ]
  },
  {
   "cell_type": "code",
   "execution_count": 15,
   "metadata": {},
   "outputs": [
    {
     "name": "stdout",
     "output_type": "stream",
     "text": [
      "      Specs         Score\n",
      "1     width  69019.134582\n",
      "1243   1243   1027.589802\n",
      "351     351    850.098061\n",
      "1399   1399    814.710084\n",
      "1483   1483    624.539011\n",
      "968     968    616.175471\n",
      "1344   1344    604.557879\n",
      "1455   1455    598.476130\n",
      "1435   1435    576.648267\n",
      "1143   1143    524.735193\n"
     ]
    }
   ],
   "source": [
    "x = data.iloc[:, 0:len(data.iloc[0])-1]  #independent columns\n",
    "y = data.iloc[:, -1]  # dependent columns\n",
    "\n",
    "topfeatures = SelectKBest(score_func=chi2, k=10)\n",
    "fit = topfeatures.fit(x,y)\n",
    "df_scores = pd.DataFrame(fit.scores_)\n",
    "df_columns = pd.DataFrame(x.columns)\n",
    "\n",
    "feature_rank = pd.concat([df_columns, df_scores], axis=1)\n",
    "feature_rank.columns = ['Specs','Score'] \n",
    "print(feature_rank.nlargest(10,'Score'))"
   ]
  },
  {
   "cell_type": "code",
   "execution_count": 16,
   "metadata": {
    "scrolled": true
   },
   "outputs": [
    {
     "name": "stdout",
     "output_type": "stream",
     "text": [
      "Train_x Shape:  (2295, 10)\n",
      "Train_y Shape:  (2295,)\n",
      "Test_x Shape:  (984, 10)\n",
      "Test_y Shape:  (984,)\n"
     ]
    }
   ],
   "source": [
    "labels = np.array(data['y'])\n",
    "df = data.copy()\n",
    "df = df.drop('y', axis=1)\n",
    "\n",
    "df = df[feature_rank.nlargest(10, 'Score').Specs.tolist()]\n",
    "\n",
    "train_x, test_x, train_y, test_y = train_test_split(df, labels, test_size = 0.3, random_state = seed)\n",
    "\n",
    "print (\"Train_x Shape: \",train_x.shape)\n",
    "print (\"Train_y Shape: \", train_y.shape)\n",
    "print (\"Test_x Shape: \", test_x.shape)\n",
    "print (\"Test_y Shape: \", test_y.shape)"
   ]
  },
  {
   "cell_type": "code",
   "execution_count": 17,
   "metadata": {
    "scrolled": true
   },
   "outputs": [
    {
     "name": "stdout",
     "output_type": "stream",
     "text": [
      "Calculating predictions..\n",
      "Model: svm\n",
      "Model: knn\n",
      "Model: naive bayes\n",
      "Model: gradient boosting\n",
      "Model: random forest\n",
      "Model: decision tree\n",
      "Model: bagging\n",
      "Calculating roc auc scores..\n",
      "svm                       : 0.910\n",
      "knn                       : 0.893\n",
      "naive bayes               : 0.916\n",
      "gradient boosting         : 0.947\n",
      "random forest             : 0.941\n",
      "decision tree             : 0.909\n",
      "bagging                   : 0.737\n"
     ]
    }
   ],
   "source": [
    "models = get_models()\n",
    "pred = prediction(models)\n",
    "roc_scores1 = roc_auc_func(test_y, pred, scenario=2)"
   ]
  },
  {
   "cell_type": "code",
   "execution_count": 18,
   "metadata": {},
   "outputs": [],
   "source": [
    "roc_scores = pd.merge(roc_scores, roc_scores1, on='index')"
   ]
  },
  {
   "cell_type": "code",
   "execution_count": 19,
   "metadata": {
    "scrolled": true
   },
   "outputs": [
    {
     "data": {
      "text/html": [
       "<div>\n",
       "<style scoped>\n",
       "    .dataframe tbody tr th:only-of-type {\n",
       "        vertical-align: middle;\n",
       "    }\n",
       "\n",
       "    .dataframe tbody tr th {\n",
       "        vertical-align: top;\n",
       "    }\n",
       "\n",
       "    .dataframe thead th {\n",
       "        text-align: right;\n",
       "    }\n",
       "</style>\n",
       "<table border=\"1\" class=\"dataframe\">\n",
       "  <thead>\n",
       "    <tr style=\"text-align: right;\">\n",
       "      <th></th>\n",
       "      <th>index</th>\n",
       "      <th>1</th>\n",
       "      <th>2</th>\n",
       "      <th>Improvement</th>\n",
       "    </tr>\n",
       "  </thead>\n",
       "  <tbody>\n",
       "    <tr>\n",
       "      <th>0</th>\n",
       "      <td>svm</td>\n",
       "      <td>0.971601</td>\n",
       "      <td>0.910236</td>\n",
       "      <td>-6.315826</td>\n",
       "    </tr>\n",
       "    <tr>\n",
       "      <th>1</th>\n",
       "      <td>knn</td>\n",
       "      <td>0.922493</td>\n",
       "      <td>0.893137</td>\n",
       "      <td>-3.182317</td>\n",
       "    </tr>\n",
       "    <tr>\n",
       "      <th>2</th>\n",
       "      <td>naive bayes</td>\n",
       "      <td>0.844452</td>\n",
       "      <td>0.915844</td>\n",
       "      <td>8.454331</td>\n",
       "    </tr>\n",
       "    <tr>\n",
       "      <th>3</th>\n",
       "      <td>gradient boosting</td>\n",
       "      <td>0.960954</td>\n",
       "      <td>0.946920</td>\n",
       "      <td>-1.460458</td>\n",
       "    </tr>\n",
       "    <tr>\n",
       "      <th>4</th>\n",
       "      <td>random forest</td>\n",
       "      <td>0.980057</td>\n",
       "      <td>0.940680</td>\n",
       "      <td>-4.017768</td>\n",
       "    </tr>\n",
       "    <tr>\n",
       "      <th>5</th>\n",
       "      <td>decision tree</td>\n",
       "      <td>0.914163</td>\n",
       "      <td>0.908990</td>\n",
       "      <td>-0.565869</td>\n",
       "    </tr>\n",
       "    <tr>\n",
       "      <th>6</th>\n",
       "      <td>bagging</td>\n",
       "      <td>0.740382</td>\n",
       "      <td>0.736605</td>\n",
       "      <td>-0.510037</td>\n",
       "    </tr>\n",
       "  </tbody>\n",
       "</table>\n",
       "</div>"
      ],
      "text/plain": [
       "               index         1         2  Improvement\n",
       "0                svm  0.971601  0.910236    -6.315826\n",
       "1                knn  0.922493  0.893137    -3.182317\n",
       "2        naive bayes  0.844452  0.915844     8.454331\n",
       "3  gradient boosting  0.960954  0.946920    -1.460458\n",
       "4      random forest  0.980057  0.940680    -4.017768\n",
       "5      decision tree  0.914163  0.908990    -0.565869\n",
       "6            bagging  0.740382  0.736605    -0.510037"
      ]
     },
     "execution_count": 19,
     "metadata": {},
     "output_type": "execute_result"
    }
   ],
   "source": [
    "roc_scores['Improvement'] = ((roc_scores[2] - roc_scores[1])/roc_scores[1]) * 100\n",
    "roc_scores"
   ]
  },
  {
   "cell_type": "markdown",
   "metadata": {},
   "source": [
    "Selecting top 10 best features do not improve our model scores except naive bayes, this shows that we should include more features.\n",
    "\n",
    "Now Scenario 3.. Using best features which cumulative sum of their rankings reach to 80%."
   ]
  },
  {
   "cell_type": "code",
   "execution_count": 20,
   "metadata": {},
   "outputs": [
    {
     "name": "stdout",
     "output_type": "stream",
     "text": [
      "We can select top 88 features which reach the 80%\n",
      "Calculating predictions..\n",
      "Model: svm\n",
      "Model: knn\n",
      "Model: naive bayes\n",
      "Model: gradient boosting\n",
      "Model: random forest\n",
      "Model: decision tree\n",
      "Model: bagging\n",
      "Calculating roc auc scores..\n",
      "svm                       : 0.943\n",
      "knn                       : 0.909\n",
      "naive bayes               : 0.942\n",
      "gradient boosting         : 0.953\n",
      "random forest             : 0.971\n",
      "decision tree             : 0.929\n",
      "bagging                   : 0.737\n"
     ]
    },
    {
     "data": {
      "text/html": [
       "<div>\n",
       "<style scoped>\n",
       "    .dataframe tbody tr th:only-of-type {\n",
       "        vertical-align: middle;\n",
       "    }\n",
       "\n",
       "    .dataframe tbody tr th {\n",
       "        vertical-align: top;\n",
       "    }\n",
       "\n",
       "    .dataframe thead th {\n",
       "        text-align: right;\n",
       "    }\n",
       "</style>\n",
       "<table border=\"1\" class=\"dataframe\">\n",
       "  <thead>\n",
       "    <tr style=\"text-align: right;\">\n",
       "      <th></th>\n",
       "      <th>index</th>\n",
       "      <th>1</th>\n",
       "      <th>2</th>\n",
       "      <th>3</th>\n",
       "      <th>Improvement</th>\n",
       "    </tr>\n",
       "  </thead>\n",
       "  <tbody>\n",
       "    <tr>\n",
       "      <th>0</th>\n",
       "      <td>svm</td>\n",
       "      <td>0.971601</td>\n",
       "      <td>0.910236</td>\n",
       "      <td>0.942566</td>\n",
       "      <td>-2.988332</td>\n",
       "    </tr>\n",
       "    <tr>\n",
       "      <th>1</th>\n",
       "      <td>knn</td>\n",
       "      <td>0.922493</td>\n",
       "      <td>0.893137</td>\n",
       "      <td>0.909187</td>\n",
       "      <td>-1.442469</td>\n",
       "    </tr>\n",
       "    <tr>\n",
       "      <th>2</th>\n",
       "      <td>naive bayes</td>\n",
       "      <td>0.844452</td>\n",
       "      <td>0.915844</td>\n",
       "      <td>0.942211</td>\n",
       "      <td>11.576669</td>\n",
       "    </tr>\n",
       "    <tr>\n",
       "      <th>3</th>\n",
       "      <td>gradient boosting</td>\n",
       "      <td>0.960954</td>\n",
       "      <td>0.946920</td>\n",
       "      <td>0.952992</td>\n",
       "      <td>-0.828579</td>\n",
       "    </tr>\n",
       "    <tr>\n",
       "      <th>4</th>\n",
       "      <td>random forest</td>\n",
       "      <td>0.980057</td>\n",
       "      <td>0.940680</td>\n",
       "      <td>0.971020</td>\n",
       "      <td>-0.922090</td>\n",
       "    </tr>\n",
       "    <tr>\n",
       "      <th>5</th>\n",
       "      <td>decision tree</td>\n",
       "      <td>0.914163</td>\n",
       "      <td>0.908990</td>\n",
       "      <td>0.928620</td>\n",
       "      <td>1.581413</td>\n",
       "    </tr>\n",
       "    <tr>\n",
       "      <th>6</th>\n",
       "      <td>bagging</td>\n",
       "      <td>0.740382</td>\n",
       "      <td>0.736605</td>\n",
       "      <td>0.736660</td>\n",
       "      <td>-0.502694</td>\n",
       "    </tr>\n",
       "  </tbody>\n",
       "</table>\n",
       "</div>"
      ],
      "text/plain": [
       "               index         1         2         3  Improvement\n",
       "0                svm  0.971601  0.910236  0.942566    -2.988332\n",
       "1                knn  0.922493  0.893137  0.909187    -1.442469\n",
       "2        naive bayes  0.844452  0.915844  0.942211    11.576669\n",
       "3  gradient boosting  0.960954  0.946920  0.952992    -0.828579\n",
       "4      random forest  0.980057  0.940680  0.971020    -0.922090\n",
       "5      decision tree  0.914163  0.908990  0.928620     1.581413\n",
       "6            bagging  0.740382  0.736605  0.736660    -0.502694"
      ]
     },
     "execution_count": 20,
     "metadata": {},
     "output_type": "execute_result"
    }
   ],
   "source": [
    "feature_rank = feature_rank.sort_values(by=['Score'], ascending=False)\n",
    "feature_rank.reset_index(inplace=True)\n",
    "feature_rank = feature_rank.drop('index', 1)\n",
    "\n",
    "feature_rank['cumulative_percentage'] = 100 * feature_rank.Score.cumsum()/feature_rank.Score.sum()\n",
    "max_features = feature_rank.loc[feature_rank['cumulative_percentage'] <= 80]\n",
    "print(\"We can select top\", len(max_features), \"features which reach the 80%\")\n",
    "\n",
    "labels = np.array(data['y'])\n",
    "df = data.copy()\n",
    "df = df.drop('y', axis=1)\n",
    "\n",
    "df = df[max_features.Specs.tolist()]\n",
    "\n",
    "train_x, test_x, train_y, test_y = train_test_split(df, labels, test_size = 0.3, random_state=seed)\n",
    "\n",
    "models = get_models()\n",
    "pred = prediction(models)\n",
    "roc_scores3 = roc_auc_func(test_y, pred, scenario=3)\n",
    "\n",
    "roc_scores = pd.merge(roc_scores[['index', 1, 2]], roc_scores3, on='index')\n",
    "roc_scores['Improvement'] = ((roc_scores[3] - roc_scores[1])/roc_scores[1]) * 100\n",
    "roc_scores"
   ]
  },
  {
   "cell_type": "markdown",
   "metadata": {},
   "source": [
    "Selecting top 88 best features improved only naive bayes and decision tree with respect to initial. However, almost all the methods' scores improved with respect to 2. scenario(using top 10 features). This proves that we should include more features.\n",
    "\n",
    "Now Scenario 4.. Using select from model as feature selection. Also, we select the 3 model for further analysis, this means that we select Random Forest, Gradient Boosting and Decision Tree"
   ]
  },
  {
   "cell_type": "markdown",
   "metadata": {},
   "source": [
    "Select From Model"
   ]
  },
  {
   "cell_type": "code",
   "execution_count": 22,
   "metadata": {
    "scrolled": false
   },
   "outputs": [],
   "source": [
    "labels = np.array(data['y'])\n",
    "df = data.copy()\n",
    "df = df.drop('y', axis=1)\n",
    "df_list = list(df.columns)\n",
    "\n",
    "train_x, test_x, train_y, test_y = train_test_split(df, labels, test_size = 0.3, random_state = seed)\n",
    "\n",
    "# Random Forest\n",
    "rf = RandomForestClassifier()\n",
    "sfm = SelectFromModel(rf)\n",
    "sfm.fit(train_x, train_y)\n",
    "\n",
    "feature_list_rf = []\n",
    "for i in range(len(data.columns.tolist())):\n",
    "    if i in sfm.get_support(indices=True):\n",
    "        feature_list_rf.append(data.columns.tolist()[i])\n",
    "        \n",
    "# Decision Tree\n",
    "dt = DecisionTreeClassifier(random_state=seed)\n",
    "sfm_dt = SelectFromModel(dt)\n",
    "sfm_dt.fit(train_x, train_y)\n",
    "\n",
    "feature_list_dt = []\n",
    "for i in range(len(data.columns.tolist())):\n",
    "    if i in sfm_dt.get_support(indices=True):\n",
    "        feature_list_dt.append(data.columns.tolist()[i])\n",
    "\n",
    "# Gradient Boosting\n",
    "sgb = GradientBoostingClassifier(random_state=seed)\n",
    "sfm_sgb = SelectFromModel(sgb)\n",
    "sfm_sgb.fit(train_x, train_y)\n",
    "\n",
    "feature_list_sgb = []\n",
    "for i in range(len(data.columns.tolist())):\n",
    "    if i in sfm_sgb.get_support(indices=True):\n",
    "        feature_list_sgb.append(data.columns.tolist()[i])"
   ]
  },
  {
   "cell_type": "code",
   "execution_count": 23,
   "metadata": {
    "scrolled": true
   },
   "outputs": [
    {
     "name": "stdout",
     "output_type": "stream",
     "text": [
      "Number of features for Random Forest are: 240\n",
      "Number of features for Decision Tree are: 46\n",
      "Number of features for Gradient Boosting are: 66\n"
     ]
    }
   ],
   "source": [
    "print('Number of features for Random Forest are:', len(feature_list_rf))\n",
    "print('Number of features for Decision Tree are:', len(feature_list_dt))\n",
    "print('Number of features for Gradient Boosting are:', len(feature_list_sgb))"
   ]
  },
  {
   "cell_type": "markdown",
   "metadata": {},
   "source": [
    "Random Forest"
   ]
  },
  {
   "cell_type": "code",
   "execution_count": 31,
   "metadata": {
    "scrolled": true
   },
   "outputs": [
    {
     "name": "stdout",
     "output_type": "stream",
     "text": [
      "Roc Auc for Random Forest: 0.9678749456358101\n"
     ]
    }
   ],
   "source": [
    "labels = np.array(data['y'])\n",
    "df = data.copy()\n",
    "df = df.drop('y', axis=1)\n",
    "\n",
    "df = df[feature_list_rf]\n",
    "\n",
    "train_x, test_x, train_y, test_y = train_test_split(df, labels, test_size = 0.3, random_state=seed)\n",
    "\n",
    "rf = RandomForestClassifier()\n",
    "rf.fit(train_x, train_y)\n",
    "pred = rf.predict_proba(test_x)[:, 1]\n",
    "rf_sfm_roc_auc = roc_auc_score(test_y, pred)\n",
    "print(\"Roc Auc for Random Forest:\",rf_sfm_roc_auc)\n",
    "roc_scores.loc[roc_scores['index'] == 'random forest', 4] = rf_sfm_roc_auc"
   ]
  },
  {
   "cell_type": "markdown",
   "metadata": {},
   "source": [
    "Decision Tree"
   ]
  },
  {
   "cell_type": "code",
   "execution_count": 32,
   "metadata": {},
   "outputs": [
    {
     "name": "stdout",
     "output_type": "stream",
     "text": [
      "Roc Auc for Decision Tree: 0.9138578501890201\n"
     ]
    }
   ],
   "source": [
    "labels = np.array(data['y'])\n",
    "df = data.copy()\n",
    "df = df.drop('y', axis=1)\n",
    "\n",
    "df = df[feature_list_dt]\n",
    "\n",
    "train_x, test_x, train_y, test_y = train_test_split(df, labels, test_size = 0.3, random_state=seed)\n",
    "\n",
    "dt = DecisionTreeClassifier(random_state=seed)\n",
    "dt.fit(train_x, train_y)\n",
    "pred = dt.predict_proba(test_x)[:, 1]\n",
    "dt_sfm_roc_auc = roc_auc_score(test_y, pred)\n",
    "print(\"Roc Auc for Decision Tree:\",dt_sfm_roc_auc)\n",
    "roc_scores.loc[roc_scores['index'] == 'decision tree', 4] = dt_sfm_roc_auc"
   ]
  },
  {
   "cell_type": "markdown",
   "metadata": {},
   "source": [
    "Gradient Boosting"
   ]
  },
  {
   "cell_type": "code",
   "execution_count": 33,
   "metadata": {
    "scrolled": true
   },
   "outputs": [
    {
     "name": "stdout",
     "output_type": "stream",
     "text": [
      "Roc Auc for Gradient Boosting: 0.9567344685691345\n"
     ]
    }
   ],
   "source": [
    "labels = np.array(data['y'])\n",
    "df = data.copy()\n",
    "df = df.drop('y', axis=1)\n",
    "\n",
    "df = df[feature_list_sgb]\n",
    "\n",
    "train_x, test_x, train_y, test_y = train_test_split(df, labels, test_size = 0.3, random_state=seed)\n",
    "\n",
    "sgb = GradientBoostingClassifier(random_state=seed)\n",
    "sgb.fit(train_x, train_y)\n",
    "pred = sgb.predict_proba(test_x)[:, 1]\n",
    "sgb_sfm_roc_auc = roc_auc_score(test_y, pred)\n",
    "print(\"Roc Auc for Gradient Boosting:\",sgb_sfm_roc_auc)\n",
    "roc_scores.loc[roc_scores['index'] == 'gradient boosting', 4] = sgb_sfm_roc_auc"
   ]
  },
  {
   "cell_type": "code",
   "execution_count": 35,
   "metadata": {},
   "outputs": [
    {
     "data": {
      "text/html": [
       "<div>\n",
       "<style scoped>\n",
       "    .dataframe tbody tr th:only-of-type {\n",
       "        vertical-align: middle;\n",
       "    }\n",
       "\n",
       "    .dataframe tbody tr th {\n",
       "        vertical-align: top;\n",
       "    }\n",
       "\n",
       "    .dataframe thead th {\n",
       "        text-align: right;\n",
       "    }\n",
       "</style>\n",
       "<table border=\"1\" class=\"dataframe\">\n",
       "  <thead>\n",
       "    <tr style=\"text-align: right;\">\n",
       "      <th></th>\n",
       "      <th>index</th>\n",
       "      <th>1</th>\n",
       "      <th>2</th>\n",
       "      <th>3</th>\n",
       "      <th>4</th>\n",
       "      <th>Initial Improvement</th>\n",
       "    </tr>\n",
       "  </thead>\n",
       "  <tbody>\n",
       "    <tr>\n",
       "      <th>0</th>\n",
       "      <td>svm</td>\n",
       "      <td>0.971601</td>\n",
       "      <td>0.910236</td>\n",
       "      <td>0.942566</td>\n",
       "      <td>NaN</td>\n",
       "      <td>NaN</td>\n",
       "    </tr>\n",
       "    <tr>\n",
       "      <th>1</th>\n",
       "      <td>knn</td>\n",
       "      <td>0.922493</td>\n",
       "      <td>0.893137</td>\n",
       "      <td>0.909187</td>\n",
       "      <td>NaN</td>\n",
       "      <td>NaN</td>\n",
       "    </tr>\n",
       "    <tr>\n",
       "      <th>2</th>\n",
       "      <td>naive bayes</td>\n",
       "      <td>0.844452</td>\n",
       "      <td>0.915844</td>\n",
       "      <td>0.942211</td>\n",
       "      <td>NaN</td>\n",
       "      <td>NaN</td>\n",
       "    </tr>\n",
       "    <tr>\n",
       "      <th>3</th>\n",
       "      <td>gradient boosting</td>\n",
       "      <td>0.960954</td>\n",
       "      <td>0.946920</td>\n",
       "      <td>0.952992</td>\n",
       "      <td>0.956734</td>\n",
       "      <td>-0.004391</td>\n",
       "    </tr>\n",
       "    <tr>\n",
       "      <th>4</th>\n",
       "      <td>random forest</td>\n",
       "      <td>0.980057</td>\n",
       "      <td>0.940680</td>\n",
       "      <td>0.971020</td>\n",
       "      <td>0.967875</td>\n",
       "      <td>-0.012430</td>\n",
       "    </tr>\n",
       "    <tr>\n",
       "      <th>5</th>\n",
       "      <td>decision tree</td>\n",
       "      <td>0.914163</td>\n",
       "      <td>0.908990</td>\n",
       "      <td>0.928620</td>\n",
       "      <td>0.913858</td>\n",
       "      <td>-0.000334</td>\n",
       "    </tr>\n",
       "    <tr>\n",
       "      <th>6</th>\n",
       "      <td>bagging</td>\n",
       "      <td>0.740382</td>\n",
       "      <td>0.736605</td>\n",
       "      <td>0.736660</td>\n",
       "      <td>NaN</td>\n",
       "      <td>NaN</td>\n",
       "    </tr>\n",
       "  </tbody>\n",
       "</table>\n",
       "</div>"
      ],
      "text/plain": [
       "               index         1         2         3         4  \\\n",
       "0                svm  0.971601  0.910236  0.942566       NaN   \n",
       "1                knn  0.922493  0.893137  0.909187       NaN   \n",
       "2        naive bayes  0.844452  0.915844  0.942211       NaN   \n",
       "3  gradient boosting  0.960954  0.946920  0.952992  0.956734   \n",
       "4      random forest  0.980057  0.940680  0.971020  0.967875   \n",
       "5      decision tree  0.914163  0.908990  0.928620  0.913858   \n",
       "6            bagging  0.740382  0.736605  0.736660       NaN   \n",
       "\n",
       "   Initial Improvement  \n",
       "0                  NaN  \n",
       "1                  NaN  \n",
       "2                  NaN  \n",
       "3            -0.004391  \n",
       "4            -0.012430  \n",
       "5            -0.000334  \n",
       "6                  NaN  "
      ]
     },
     "execution_count": 35,
     "metadata": {},
     "output_type": "execute_result"
    }
   ],
   "source": [
    "roc_scores = roc_scores[['index', 1, 2, 3, 4]]\n",
    "roc_scores['Initial Improvement'] = ((roc_scores[4] - roc_scores[1])/roc_scores[1])\n",
    "roc_scores"
   ]
  },
  {
   "cell_type": "markdown",
   "metadata": {},
   "source": [
    "Running RFE might be expensive for about 1500 columns, so we need to eliminate correlated features. Also we will chose the best model for computational easiness, which is random forest"
   ]
  },
  {
   "cell_type": "code",
   "execution_count": 36,
   "metadata": {},
   "outputs": [],
   "source": [
    "correlated_features = []\n",
    "correl = data.drop('y', axis=1).corr()\n",
    "\n",
    "for i in range(len(correl.columns)):\n",
    "    for j in range(i):\n",
    "        if abs(correl.iloc[i, j]) > 0.75:\n",
    "            colname = correl.columns[i]\n",
    "            correlated_features.append(colname)\n",
    "\n",
    "# Remove duplicates\n",
    "correlated_features = list(dict.fromkeys(correlated_features))"
   ]
  },
  {
   "cell_type": "code",
   "execution_count": 37,
   "metadata": {
    "scrolled": false
   },
   "outputs": [
    {
     "data": {
      "text/plain": [
       "RFE(estimator=RandomForestClassifier(bootstrap=True, ccp_alpha=0.0,\n",
       "                                     class_weight=None, criterion='gini',\n",
       "                                     max_depth=None, max_features='auto',\n",
       "                                     max_leaf_nodes=None, max_samples=None,\n",
       "                                     min_impurity_decrease=0.0,\n",
       "                                     min_impurity_split=None,\n",
       "                                     min_samples_leaf=1, min_samples_split=2,\n",
       "                                     min_weight_fraction_leaf=0.0,\n",
       "                                     n_estimators=100, n_jobs=None,\n",
       "                                     oob_score=False, random_state=None,\n",
       "                                     verbose=0, warm_start=False),\n",
       "    n_features_to_select=None, step=1, verbose=0)"
      ]
     },
     "execution_count": 37,
     "metadata": {},
     "output_type": "execute_result"
    }
   ],
   "source": [
    "df = data.copy()\n",
    "target = df['y']\n",
    "df = df.drop('y', axis=1)\n",
    "df = df.drop(correlated_features, axis=1)\n",
    "\n",
    "rf = RandomForestClassifier()\n",
    "rfe = RFE(estimator=rf, step=1)\n",
    "rfe.fit(df, target)"
   ]
  },
  {
   "cell_type": "code",
   "execution_count": 38,
   "metadata": {
    "scrolled": true
   },
   "outputs": [
    {
     "name": "stdout",
     "output_type": "stream",
     "text": [
      "Optimal number of features for Random Forest: 212\n"
     ]
    }
   ],
   "source": [
    "print('Optimal number of features for Random Forest: {}'.format(rfe.n_features_))"
   ]
  },
  {
   "cell_type": "code",
   "execution_count": 39,
   "metadata": {},
   "outputs": [
    {
     "data": {
      "text/html": [
       "<div>\n",
       "<style scoped>\n",
       "    .dataframe tbody tr th:only-of-type {\n",
       "        vertical-align: middle;\n",
       "    }\n",
       "\n",
       "    .dataframe tbody tr th {\n",
       "        vertical-align: top;\n",
       "    }\n",
       "\n",
       "    .dataframe thead th {\n",
       "        text-align: right;\n",
       "    }\n",
       "</style>\n",
       "<table border=\"1\" class=\"dataframe\">\n",
       "  <thead>\n",
       "    <tr style=\"text-align: right;\">\n",
       "      <th></th>\n",
       "      <th>attr</th>\n",
       "      <th>importance</th>\n",
       "    </tr>\n",
       "  </thead>\n",
       "  <tbody>\n",
       "    <tr>\n",
       "      <th>1</th>\n",
       "      <td>width</td>\n",
       "      <td>0.126737</td>\n",
       "    </tr>\n",
       "    <tr>\n",
       "      <th>136</th>\n",
       "      <td>1243</td>\n",
       "      <td>0.101930</td>\n",
       "    </tr>\n",
       "    <tr>\n",
       "      <th>61</th>\n",
       "      <td>351</td>\n",
       "      <td>0.084303</td>\n",
       "    </tr>\n",
       "    <tr>\n",
       "      <th>2</th>\n",
       "      <td>ratio(width/height)</td>\n",
       "      <td>0.068287</td>\n",
       "    </tr>\n",
       "    <tr>\n",
       "      <th>104</th>\n",
       "      <td>968</td>\n",
       "      <td>0.050175</td>\n",
       "    </tr>\n",
       "    <tr>\n",
       "      <th>...</th>\n",
       "      <td>...</td>\n",
       "      <td>...</td>\n",
       "    </tr>\n",
       "    <tr>\n",
       "      <th>135</th>\n",
       "      <td>1230</td>\n",
       "      <td>0.000182</td>\n",
       "    </tr>\n",
       "    <tr>\n",
       "      <th>90</th>\n",
       "      <td>655</td>\n",
       "      <td>0.000124</td>\n",
       "    </tr>\n",
       "    <tr>\n",
       "      <th>196</th>\n",
       "      <td>1521</td>\n",
       "      <td>0.000099</td>\n",
       "    </tr>\n",
       "    <tr>\n",
       "      <th>179</th>\n",
       "      <td>1487</td>\n",
       "      <td>0.000098</td>\n",
       "    </tr>\n",
       "    <tr>\n",
       "      <th>187</th>\n",
       "      <td>1501</td>\n",
       "      <td>0.000091</td>\n",
       "    </tr>\n",
       "  </tbody>\n",
       "</table>\n",
       "<p>212 rows × 2 columns</p>\n",
       "</div>"
      ],
      "text/plain": [
       "                    attr  importance\n",
       "1                  width    0.126737\n",
       "136                 1243    0.101930\n",
       "61                   351    0.084303\n",
       "2    ratio(width/height)    0.068287\n",
       "104                  968    0.050175\n",
       "..                   ...         ...\n",
       "135                 1230    0.000182\n",
       "90                   655    0.000124\n",
       "196                 1521    0.000099\n",
       "179                 1487    0.000098\n",
       "187                 1501    0.000091\n",
       "\n",
       "[212 rows x 2 columns]"
      ]
     },
     "execution_count": 39,
     "metadata": {},
     "output_type": "execute_result"
    }
   ],
   "source": [
    "df.drop(df.columns[np.where(rfe.support_ == False)[0]], axis=1, inplace=True)\n",
    "dset = pd.DataFrame()\n",
    "dset['attr'] = df.columns\n",
    "dset['importance'] = rfe.estimator_.feature_importances_\n",
    "\n",
    "dset = dset.sort_values(by='importance', ascending=False)\n",
    "dset"
   ]
  },
  {
   "cell_type": "code",
   "execution_count": 40,
   "metadata": {},
   "outputs": [
    {
     "data": {
      "image/png": "[encoded data removed]",
      "text/plain": [
       "<Figure size 432x288 with 1 Axes>"
      ]
     },
     "metadata": {
      "needs_background": "light"
     },
     "output_type": "display_data"
    }
   ],
   "source": [
    "fig = plt.figure()\n",
    "ax = fig.add_axes([0,0,1,1])\n",
    "importance = dset.importance.tolist()\n",
    "features = [i for i in range(len(importance))]\n",
    "# dset.attr.tolist()\n",
    "\n",
    "ax.bar(features,importance)\n",
    "plt.show()"
   ]
  },
  {
   "cell_type": "code",
   "execution_count": 41,
   "metadata": {
    "scrolled": true
   },
   "outputs": [
    {
     "name": "stdout",
     "output_type": "stream",
     "text": [
      "Train_x Shape:  (2295, 212)\n",
      "Train_y Shape:  (2295,)\n",
      "Test_x Shape:  (984, 212)\n",
      "Test_y Shape:  (984,)\n",
      "Calculating predictions..\n",
      "Model: random forest\n",
      "Calculating roc auc scores..\n",
      "random forest             : 0.974\n"
     ]
    }
   ],
   "source": [
    "labels = np.array(data['y'])\n",
    "df = data.copy()\n",
    "df = df.drop('y', axis=1)\n",
    "\n",
    "df = df[dset.attr.tolist()]\n",
    "\n",
    "train_x, test_x, train_y, test_y = train_test_split(df, labels, test_size = 0.3, random_state = seed)\n",
    "\n",
    "print (\"Train_x Shape: \",train_x.shape)\n",
    "print (\"Train_y Shape: \", train_y.shape)\n",
    "print (\"Test_x Shape: \", test_x.shape)\n",
    "print (\"Test_y Shape: \", test_y.shape)\n",
    "\n",
    "models = get_models()\n",
    "En_Value = models['random forest']\n",
    "models.clear() \n",
    "models['random forest'] = En_Value\n",
    "pred = prediction(models)\n",
    "roc_scores4 = roc_auc_func(test_y, pred, scenario=4)"
   ]
  },
  {
   "cell_type": "code",
   "execution_count": 49,
   "metadata": {
    "scrolled": true
   },
   "outputs": [
    {
     "data": {
      "text/html": [
       "<div>\n",
       "<style scoped>\n",
       "    .dataframe tbody tr th:only-of-type {\n",
       "        vertical-align: middle;\n",
       "    }\n",
       "\n",
       "    .dataframe tbody tr th {\n",
       "        vertical-align: top;\n",
       "    }\n",
       "\n",
       "    .dataframe thead th {\n",
       "        text-align: right;\n",
       "    }\n",
       "</style>\n",
       "<table border=\"1\" class=\"dataframe\">\n",
       "  <thead>\n",
       "    <tr style=\"text-align: right;\">\n",
       "      <th></th>\n",
       "      <th>index</th>\n",
       "      <th>1</th>\n",
       "      <th>2</th>\n",
       "      <th>3</th>\n",
       "      <th>4</th>\n",
       "      <th>5</th>\n",
       "      <th>Initial Improvement</th>\n",
       "      <th>Improvement from Previous</th>\n",
       "    </tr>\n",
       "  </thead>\n",
       "  <tbody>\n",
       "    <tr>\n",
       "      <th>0</th>\n",
       "      <td>svm</td>\n",
       "      <td>0.971601</td>\n",
       "      <td>0.910236</td>\n",
       "      <td>0.942566</td>\n",
       "      <td>NaN</td>\n",
       "      <td>NaN</td>\n",
       "      <td>NaN</td>\n",
       "      <td>NaN</td>\n",
       "    </tr>\n",
       "    <tr>\n",
       "      <th>1</th>\n",
       "      <td>knn</td>\n",
       "      <td>0.922493</td>\n",
       "      <td>0.893137</td>\n",
       "      <td>0.909187</td>\n",
       "      <td>NaN</td>\n",
       "      <td>NaN</td>\n",
       "      <td>NaN</td>\n",
       "      <td>NaN</td>\n",
       "    </tr>\n",
       "    <tr>\n",
       "      <th>2</th>\n",
       "      <td>naive bayes</td>\n",
       "      <td>0.844452</td>\n",
       "      <td>0.915844</td>\n",
       "      <td>0.942211</td>\n",
       "      <td>NaN</td>\n",
       "      <td>NaN</td>\n",
       "      <td>NaN</td>\n",
       "      <td>NaN</td>\n",
       "    </tr>\n",
       "    <tr>\n",
       "      <th>3</th>\n",
       "      <td>gradient boosting</td>\n",
       "      <td>0.960954</td>\n",
       "      <td>0.946920</td>\n",
       "      <td>0.952992</td>\n",
       "      <td>0.956734</td>\n",
       "      <td>NaN</td>\n",
       "      <td>NaN</td>\n",
       "      <td>NaN</td>\n",
       "    </tr>\n",
       "    <tr>\n",
       "      <th>4</th>\n",
       "      <td>random forest</td>\n",
       "      <td>0.980057</td>\n",
       "      <td>0.940680</td>\n",
       "      <td>0.971020</td>\n",
       "      <td>0.967875</td>\n",
       "      <td>0.974453</td>\n",
       "      <td>-0.005718</td>\n",
       "      <td>0.006796</td>\n",
       "    </tr>\n",
       "    <tr>\n",
       "      <th>5</th>\n",
       "      <td>decision tree</td>\n",
       "      <td>0.914163</td>\n",
       "      <td>0.908990</td>\n",
       "      <td>0.928620</td>\n",
       "      <td>0.913858</td>\n",
       "      <td>NaN</td>\n",
       "      <td>NaN</td>\n",
       "      <td>NaN</td>\n",
       "    </tr>\n",
       "    <tr>\n",
       "      <th>6</th>\n",
       "      <td>bagging</td>\n",
       "      <td>0.740382</td>\n",
       "      <td>0.736605</td>\n",
       "      <td>0.736660</td>\n",
       "      <td>NaN</td>\n",
       "      <td>NaN</td>\n",
       "      <td>NaN</td>\n",
       "      <td>NaN</td>\n",
       "    </tr>\n",
       "  </tbody>\n",
       "</table>\n",
       "</div>"
      ],
      "text/plain": [
       "               index         1         2         3         4         5  \\\n",
       "0                svm  0.971601  0.910236  0.942566       NaN       NaN   \n",
       "1                knn  0.922493  0.893137  0.909187       NaN       NaN   \n",
       "2        naive bayes  0.844452  0.915844  0.942211       NaN       NaN   \n",
       "3  gradient boosting  0.960954  0.946920  0.952992  0.956734       NaN   \n",
       "4      random forest  0.980057  0.940680  0.971020  0.967875  0.974453   \n",
       "5      decision tree  0.914163  0.908990  0.928620  0.913858       NaN   \n",
       "6            bagging  0.740382  0.736605  0.736660       NaN       NaN   \n",
       "\n",
       "   Initial Improvement  Improvement from Previous  \n",
       "0                  NaN                        NaN  \n",
       "1                  NaN                        NaN  \n",
       "2                  NaN                        NaN  \n",
       "3                  NaN                        NaN  \n",
       "4            -0.005718                   0.006796  \n",
       "5                  NaN                        NaN  \n",
       "6                  NaN                        NaN  "
      ]
     },
     "execution_count": 49,
     "metadata": {},
     "output_type": "execute_result"
    }
   ],
   "source": [
    "roc_scores = roc_scores[['index', 1, 2, 3, 4]]\n",
    "roc_scores.loc[roc_scores['index'] == 'random forest', 5] = float(roc_scores4[4])\n",
    "roc_scores['Initial Improvement'] = ((roc_scores[5] - roc_scores[1])/roc_scores[1])\n",
    "roc_scores['Improvement from Previous'] = ((roc_scores[5] - roc_scores[4])/roc_scores[4])\n",
    "roc_scores"
   ]
  }
 ],
 "metadata": {
  "kernelspec": {
   "display_name": "Python 3",
   "language": "python",
   "name": "python3"
  },
  "language_info": {
   "codemirror_mode": {
    "name": "ipython",
    "version": 3
   },
   "file_extension": ".py",
   "mimetype": "text/x-python",
   "name": "python",
   "nbconvert_exporter": "python",
   "pygments_lexer": "ipython3",
   "version": "3.7.4"
  }
 },
 "nbformat": 4,
 "nbformat_minor": 2
}
