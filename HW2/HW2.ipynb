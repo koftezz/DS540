{
 "cells": [
  {
   "cell_type": "code",
   "execution_count": 606,
   "metadata": {},
   "outputs": [],
   "source": [
    "import pandas as pd\n",
    "import numpy as np\n",
    "import os\n",
    "from sklearn.model_selection import train_test_split\n",
    "from sklearn.tree import DecisionTreeClassifier # Import Decision Tree Classifier\n",
    "from sklearn import metrics #Import scikit-learn metrics module for accuracy calculation\n",
    "from sklearn.ensemble import BaggingClassifier\n",
    "from sklearn.ensemble import RandomForestClassifier\n",
    "from sklearn.ensemble import AdaBoostClassifier\n",
    "from sklearn.ensemble import GradientBoostingClassifier\n",
    "from xgboost import XGBClassifier\n",
    "from sklearn.model_selection import cross_val_score, KFold, StratifiedKFold\n",
    "from sklearn.model_selection import cross_val_predict\n",
    "from sklearn.metrics import accuracy_score, roc_auc_score, precision_score, recall_score, f1_score\n",
    "from sklearn.model_selection import RandomizedSearchCV\n",
    "from sklearn.model_selection import GridSearchCV\n",
    "from sklearn.metrics import confusion_matrix\n",
    "import seaborn as sns\n",
    "import matplotlib.pyplot as plt"
   ]
  },
  {
   "cell_type": "code",
   "execution_count": 607,
   "metadata": {},
   "outputs": [],
   "source": [
    "df = pd.read_csv(\".\\chronic_kidney_disease_full.csv\")\n",
    "seed = 84\n",
    "\n",
    "# Change column name to make it easier since 'class' is pre-defined\n",
    "df['class'].unique()\n",
    "df.rename(columns={'class': 'class_label'}, inplace=True)"
   ]
  },
  {
   "cell_type": "code",
   "execution_count": 608,
   "metadata": {},
   "outputs": [
    {
     "data": {
      "text/plain": [
       "(400, 25)"
      ]
     },
     "execution_count": 608,
     "metadata": {},
     "output_type": "execute_result"
    }
   ],
   "source": [
    "df.shape"
   ]
  },
  {
   "cell_type": "code",
   "execution_count": 609,
   "metadata": {
    "scrolled": true
   },
   "outputs": [
    {
     "name": "stdout",
     "output_type": "stream",
     "text": [
      "age: \n",
      "['48' '7' '62' '51' '60' '68' '24' '52' '53' '50' '63' '40' '47' '61' '21'\n",
      " '42' '75' '69' '?' '73' '70' '65' '76' '72' '82' '46' '45' '35' '54' '11'\n",
      " '59' '67' '15' '55' '44' '26' '64' '56' '5' '74' '38' '58' '71' '34' '17'\n",
      " '12' '43' '41' '57' '8' '39' '66' '81' '14' '27' '83' '30' '4' '3' '6'\n",
      " '32' '80' '49' '90' '78' '19' '2' '33' '36' '37' '23' '25' '20' '29' '28'\n",
      " '22' '79']\n",
      "\n",
      "\n",
      "bp: \n",
      "['80' '50' '70' '90' '?' '100' '60' '110' '140' '180' '120']\n",
      "\n",
      "\n",
      "sg: \n",
      "['1.02' '1.01' '1.005' '1.015' '?' '1.025']\n",
      "\n",
      "\n",
      "al: \n",
      "['1' '4' '2' '3' '0' '?' '5']\n",
      "\n",
      "\n",
      "su: \n",
      "['0' '3' '4' '1' '?' '2' '5']\n",
      "\n",
      "\n",
      "rbc: \n",
      "['?' 'normal' 'abnormal']\n",
      "\n",
      "\n",
      "pc: \n",
      "['normal' 'abnormal' '?']\n",
      "\n",
      "\n",
      "pcc: \n",
      "['notpresent' 'present' '?']\n",
      "\n",
      "\n",
      "ba: \n",
      "['notpresent' 'present' '?']\n",
      "\n",
      "\n",
      "bgr: \n",
      "['121' '?' '423' '117' '106' '74' '100' '410' '138' '70' '490' '380' '208'\n",
      " '98' '157' '76' '99' '114' '263' '173' '95' '108' '156' '264' '123' '93'\n",
      " '107' '159' '140' '171' '270' '92' '137' '204' '79' '207' '124' '144'\n",
      " '91' '162' '246' '253' '141' '182' '86' '150' '146' '425' '112' '250'\n",
      " '360' '163' '129' '133' '102' '158' '165' '132' '104' '127' '415' '169'\n",
      " '251' '109' '280' '210' '219' '295' '94' '172' '101' '298' '153' '88'\n",
      " '226' '143' '115' '89' '297' '233' '294' '323' '125' '90' '308' '118'\n",
      " '224' '128' '122' '214' '213' '268' '256' '84' '105' '288' '139' '78'\n",
      " '273' '242' '424' '303' '148' '160' '192' '307' '220' '447' '309' '22'\n",
      " '111' '261' '215' '234' '131' '352' '80' '239' '110' '130' '184' '252'\n",
      " '113' '230' '341' '255' '103' '238' '248' '120' '241' '269' '201' '203'\n",
      " '463' '176' '82' '119' '97' '96' '81' '116' '134' '85' '83' '87' '75']\n",
      "\n",
      "\n",
      "bu: \n",
      "['36' '18' '53' '56' '26' '25' '54' '31' '60' '107' '55' '72' '86' '90'\n",
      " '162' '46' '87' '27' '148' '180' '163' '?' '50' '75' '45' '28' '155' '33'\n",
      " '39' '153' '29' '65' '103' '70' '80' '20' '202' '77' '89' '24' '17' '32'\n",
      " '114' '66' '38' '164' '142' '96' '391' '15' '111' '73' '19' '92' '35'\n",
      " '16' '139' '48' '85' '98' '186' '37' '47' '52' '82' '51' '106' '22' '217'\n",
      " '88' '118' '50.1' '71' '34' '40' '21' '219' '30' '125' '166' '49' '208'\n",
      " '176' '68' '145' '165' '322' '23' '235' '132' '76' '42' '44' '41' '113'\n",
      " '1.5' '146' '58' '133' '137' '67' '115' '223' '98.6' '158' '94' '74'\n",
      " '150' '61' '57' '95' '191' '93' '241' '64' '79' '215' '309' '10']\n",
      "\n",
      "\n",
      "sc: \n",
      "['1.2' '0.8' '1.8' '3.8' '1.4' '1.1' '24' '1.9' '7.2' '4' '2.7' '2.1'\n",
      " '4.6' '4.1' '9.6' '2.2' '5.2' '1.3' '1.6' '3.9' '76' '7.7' '?' '2.4'\n",
      " '7.3' '1.5' '2.5' '2' '3.4' '0.7' '1' '10.8' '6.3' '5.9' '0.9' '3' '3.25'\n",
      " '9.7' '6.4' '3.2' '32' '0.6' '6.1' '3.3' '6.7' '8.5' '2.8' '15' '2.9'\n",
      " '1.7' '3.6' '5.6' '6.5' '4.4' '10.2' '11.5' '0.5' '12.2' '5.3' '9.2'\n",
      " '13.8' '16.9' '6' '7.1' '18' '2.3' '13' '48.1' '14.2' '16.4' '2.6' '7.5'\n",
      " '4.3' '18.1' '11.8' '9.3' '6.8' '13.5' '12.8' '11.9' '12' '13.4' '15.2'\n",
      " '13.3' '0.4']\n",
      "\n",
      "\n",
      "sod: \n",
      "['?' '111' '142' '104' '114' '131' '138' '135' '130' '141' '139' '4.5'\n",
      " '136' '129' '140' '132' '133' '134' '125' '163' '137' '128' '143' '127'\n",
      " '146' '126' '122' '147' '124' '115' '145' '113' '120' '150' '144']\n",
      "\n",
      "\n",
      "pot: \n",
      "['?' '2.5' '3.2' '4' '3.7' '4.2' '5.8' '3.4' '6.4' '4.9' '4.1' '4.3' '5.2'\n",
      " '3.8' '4.6' '3.9' '4.7' '5.9' '4.8' '4.4' '6.6' '39' '5.5' '5' '3.5'\n",
      " '3.6' '7.6' '2.9' '4.5' '5.7' '5.4' '5.3' '47' '6.3' '5.1' '5.6' '3'\n",
      " '2.8' '2.7' '6.5' '3.3']\n",
      "\n",
      "\n",
      "hemo: \n",
      "['15.4' '11.3' '9.6' '11.2' '11.6' '12.2' '12.4' '10.8' '9.5' '9.4' '9.7'\n",
      " '9.8' '5.6' '7.6' '12.6' '12.1' '12.7' '10.3' '7.7' '10.9' '?' '11.1'\n",
      " '9.9' '12.5' '12.9' '10.1' '12' '13' '7.9' '9.3' '15' '10' '8.6' '13.6'\n",
      " '10.2' '10.5' '6.6' '11' '7.5' '15.6' '15.2' '4.8' '9.1' '8.1' '11.9'\n",
      " '13.5' '8.3' '7.1' '16.1' '10.4' '9.2' '6.2' '13.9' '14.1' '6' '11.8'\n",
      " '11.7' '11.4' '14' '8.2' '13.2' '6.1' '8' '12.3' '8.4' '14.3' '9' '8.7'\n",
      " '10.6' '13.1' '10.7' '5.5' '5.8' '6.8' '8.8' '8.5' '13.8' '11.5' '7.3'\n",
      " '13.7' '12.8' '13.4' '6.3' '3.1' '17' '15.9' '14.5' '15.5' '16.2' '14.4'\n",
      " '14.2' '16.3' '14.8' '16.5' '15.7' '13.3' '14.6' '16.4' '16.9' '16'\n",
      " '14.7' '16.6' '14.9' '16.7' '16.8' '15.8' '15.1' '17.1' '17.2' '15.3'\n",
      " '17.3' '17.4' '17.7' '17.8' '17.5' '17.6']\n",
      "\n",
      "\n",
      "pcv: \n",
      "['44' '38' '31' '32' '35' '39' '36' '33' '29' '28' '?' '16' '24' '37' '30'\n",
      " '34' '40' '45' '27' '48' '52' '14' '22' '18' '42' '17' '46' '23' '19'\n",
      " '25' '41' '26' '15' '21' '43' '20' '\\t43' '47' '9' '49' '50' '53' '51'\n",
      " '54']\n",
      "\n",
      "\n",
      "wbcc: \n",
      "['7800' '6000' '7500' '6700' '7300' '?' '6900' '9600' '12100' '4500'\n",
      " '12200' '11000' '3800' '11400' '5300' '9200' '6200' '8300' '8400' '10300'\n",
      " '9800' '9100' '7900' '6400' '8600' '18900' '21600' '4300' '8500' '11300'\n",
      " '7200' '7700' '14600' '6300' '\\t6200' '7100' '11800' '9400' '5500' '5800'\n",
      " '13200' '12500' '5600' '7000' '11900' '10400' '10700' '12700' '6800'\n",
      " '6500' '13600' '10200' '9000' '14900' '8200' '15200' '5000' '16300'\n",
      " '12400' '\\t8400' '10500' '4200' '4700' '10900' '8100' '9500' '2200'\n",
      " '12800' '11200' '19100' '12300' '16700' '2600' '26400' '8800' '7400'\n",
      " '4900' '8000' '12000' '15700' '4100' '5700' '11500' '5400' '10800' '9900'\n",
      " '5200' '5900' '9300' '9700' '5100' '6600']\n",
      "\n",
      "\n",
      "rbcc: \n",
      "['5.2' '?' '3.9' '4.6' '4.4' '5' '4' '3.7' '3.8' '3.4' '2.6' '2.8' '4.3'\n",
      " '3.2' '3.6' '4.1' '4.9' '2.5' '4.2' '4.5' '3.1' '4.7' '3.5' '6' '2.1'\n",
      " '5.6' '2.3' '2.9' '2.7' '8' '3.3' '3' '2.4' '4.8' '5.4' '6.1' '6.2' '6.3'\n",
      " '5.1' '5.8' '5.5' '5.3' '6.4' '5.7' '5.9' '6.5']\n",
      "\n",
      "\n",
      "htn: \n",
      "['yes' 'no' '?']\n",
      "\n",
      "\n",
      "dm: \n",
      "['yes' 'no' ' yes' '\\tno' '\\tyes' '?']\n",
      "\n",
      "\n",
      "cad: \n",
      "['no' 'yes' '\\tno' '?']\n",
      "\n",
      "\n",
      "appet: \n",
      "['good' 'poor' '?']\n",
      "\n",
      "\n",
      "pe: \n",
      "['no' 'yes' '?']\n",
      "\n",
      "\n",
      "ane: \n",
      "['no' 'yes' '?']\n",
      "\n",
      "\n",
      "class_label: \n",
      "['ckd' 'notckd']\n",
      "\n",
      "\n"
     ]
    }
   ],
   "source": [
    "# see unique values of columns\n",
    "for column in df.columns:\n",
    "    print(column + \": \")\n",
    "    print(eval(\"df.\"+ column + \".unique()\"))\n",
    "    print(\"\\n\")"
   ]
  },
  {
   "cell_type": "code",
   "execution_count": 610,
   "metadata": {
    "scrolled": false
   },
   "outputs": [
    {
     "data": {
      "text/plain": [
       "1    250\n",
       "0    150\n",
       "Name: class_label, dtype: int64"
      ]
     },
     "execution_count": 610,
     "metadata": {},
     "output_type": "execute_result"
    }
   ],
   "source": [
    "# There exists some unclear type\n",
    "df.replace('?', np.nan, inplace=True)\n",
    "df.replace('\\t','', regex=True, inplace=True)\n",
    "df.reset_index(inplace=True)\n",
    "df = df.drop('index', axis = 1)\n",
    "\n",
    "# Encode categorical data with binary\n",
    "df['dm'] = df['dm'].str.strip()\n",
    "df[['htn','dm','cad','pe','ane']] = df[['htn','dm','cad','pe','ane']].replace(to_replace={'yes': 1,'no': 0})\n",
    "df[['rbc','pc']] = df[['rbc','pc']].replace(to_replace={'abnormal': 1,'normal': 0})\n",
    "df[['pcc','ba']] = df[['pcc','ba']].replace(to_replace={'present': 1,'notpresent': 0})\n",
    "df[['appet']] = df[['appet']].replace(to_replace={'good': 1,'poor': 0})\n",
    "\n",
    "# change data type from object to float - due to na values, can't cast into integer\n",
    "df[['age','bp', 'sg', 'al', 'su', 'sc', 'sod', 'dm', 'pot', 'hemo', 'bgr','bu',\n",
    "    'pcv', 'wbcc', 'rbcc']] = df[['age','bp', 'sg', 'al', 'su', 'sc', 'sod','dm', 'pot', 'hemo', 'bgr','bu', 'pcv', 'wbcc', 'rbcc']].astype('Float64')\n",
    "\n",
    "\n",
    "# Change class labels into binary\n",
    "df['class_label'] = df['class_label'].apply(lambda x: 1 if x == \"ckd\" else 0) \n",
    "df['class_label'].value_counts()"
   ]
  },
  {
   "cell_type": "code",
   "execution_count": 612,
   "metadata": {},
   "outputs": [],
   "source": [
    "# Filling out missing values with mean\n",
    "fill_col_list = ['age', 'bp', 'sg', 'bgr', 'bu', 'sc', 'sod', 'hemo', 'pcv', 'wbcc', 'rbcc']\n",
    "for col in fill_col_list:\n",
    "#     print(df[col])\n",
    "    df[col].fillna(df[col].mean(), inplace = True)\n",
    "\n",
    "df.dropna(inplace= True)"
   ]
  },
  {
   "cell_type": "code",
   "execution_count": 613,
   "metadata": {},
   "outputs": [
    {
     "data": {
      "text/plain": [
       "(254, 24)"
      ]
     },
     "execution_count": 613,
     "metadata": {},
     "output_type": "execute_result"
    }
   ],
   "source": [
    "df.shape"
   ]
  },
  {
   "cell_type": "code",
   "execution_count": 614,
   "metadata": {},
   "outputs": [
    {
     "data": {
      "text/plain": [
       "0    129\n",
       "1    125\n",
       "Name: class_label, dtype: int64"
      ]
     },
     "execution_count": 614,
     "metadata": {},
     "output_type": "execute_result"
    }
   ],
   "source": [
    "df['class_label'].value_counts()"
   ]
  },
  {
   "cell_type": "markdown",
   "metadata": {},
   "source": [
    "Cross Validation Process"
   ]
  },
  {
   "cell_type": "code",
   "execution_count": 615,
   "metadata": {
    "scrolled": false
   },
   "outputs": [
    {
     "name": "stdout",
     "output_type": "stream",
     "text": [
      "Train_x Shape:  (177, 23)\n",
      "Train_y Shape:  (177,)\n",
      "Test_x Shape:  (77, 23)\n",
      "Test_y Shape:  (77,)\n"
     ]
    }
   ],
   "source": [
    "labels = np.array(df['class_label'])\n",
    "df= df.drop('class_label', axis = 1)\n",
    "\n",
    "df_list = list(df.columns)\n",
    "\n",
    "train_x, test_x, train_y, test_y = train_test_split(df, labels, test_size = 0.3, random_state = seed)\n",
    "\n",
    "print (\"Train_x Shape: \",train_x.shape)\n",
    "print (\"Train_y Shape: \", train_y.shape)\n",
    "print (\"Test_x Shape: \", test_x.shape)\n",
    "print (\"Test_y Shape: \", test_y.shape)"
   ]
  },
  {
   "cell_type": "code",
   "execution_count": 617,
   "metadata": {},
   "outputs": [],
   "source": [
    "clf = DecisionTreeClassifier()\n",
    "bgc = BaggingClassifier(random_state=seed)\n",
    "rfc = RandomForestClassifier(random_state=seed)\n",
    "abc = AdaBoostClassifier(random_state=seed)\n",
    "sgb = GradientBoostingClassifier(random_state=seed)"
   ]
  },
  {
   "cell_type": "markdown",
   "metadata": {},
   "source": [
    "Approach 1: CV as Stratified, K = 5. Best one is Gradient Boosting"
   ]
  },
  {
   "cell_type": "code",
   "execution_count": 644,
   "metadata": {
    "scrolled": true
   },
   "outputs": [
    {
     "name": "stdout",
     "output_type": "stream",
     "text": [
      "Mean Accuracy Score - DTR:  0.9921568627450981\n",
      "Mean Accuracy Score - BAG:  0.9723921568627452\n",
      "Mean Accuracy Score - RFC:  0.976392156862745\n",
      "Mean Accuracy Score - ADA:  0.9803137254901962\n",
      "Mean Accuracy Score - GBC:  0.9921568627450981\n"
     ]
    }
   ],
   "source": [
    "clf_cv_score = cross_val_score(clf, df, labels, cv=5, scoring='accuracy')\n",
    "print(\"Mean Accuracy Score - DTR: \", clf_cv_score.mean())\n",
    "\n",
    "bgc_cv_score = cross_val_score(bgc, df, labels, cv=5, scoring='accuracy')\n",
    "print(\"Mean Accuracy Score - BAG: \", bgc_cv_score.mean())\n",
    "\n",
    "rfc_cv_score = cross_val_score(rfc, df, labels, cv=5, scoring='accuracy')\n",
    "print(\"Mean Accuracy Score - RFC: \", rfc_cv_score.mean())\n",
    "\n",
    "abc_cv_score = cross_val_score(abc, df, labels, cv=5, scoring='accuracy')\n",
    "print(\"Mean Accuracy Score - ADA: \", abc_cv_score.mean())\n",
    "\n",
    "sgb_cv_score = cross_val_score(sgb, df, labels, cv=5, scoring='accuracy')\n",
    "print(\"Mean Accuracy Score - GBC: \", sgb_cv_score.mean())\n"
   ]
  },
  {
   "cell_type": "markdown",
   "metadata": {},
   "source": [
    "Approach 2: CV as KFold, K = 5. Best one is Gradient Boosting"
   ]
  },
  {
   "cell_type": "code",
   "execution_count": 645,
   "metadata": {
    "scrolled": true
   },
   "outputs": [
    {
     "name": "stdout",
     "output_type": "stream",
     "text": [
      "Mean Accuracy Score - DTR:  0.9882352941176471\n",
      "Mean Accuracy Score - BAG:  0.9724705882352943\n",
      "Mean Accuracy Score - RFC:  0.9803921568627452\n",
      "Mean Accuracy Score - ADA:  0.9803921568627452\n",
      "Mean Accuracy Score - GBC:  0.9882352941176471\n"
     ]
    }
   ],
   "source": [
    "clf_cv_score = cross_val_score(clf, df, labels, cv=KFold(5), scoring='accuracy')\n",
    "print(\"Mean Accuracy Score - DTR: \", clf_cv_score.mean())\n",
    "\n",
    "bgc_cv_score = cross_val_score(bgc, df, labels, cv=KFold(5), scoring='accuracy')\n",
    "print(\"Mean Accuracy Score - BAG: \", bgc_cv_score.mean())\n",
    "\n",
    "rfc_cv_score = cross_val_score(rfc, df, labels, cv=KFold(5), scoring='accuracy')\n",
    "print(\"Mean Accuracy Score - RFC: \", rfc_cv_score.mean())\n",
    "\n",
    "abc_cv_score = cross_val_score(abc, df, labels, cv=KFold(5), scoring='accuracy')\n",
    "print(\"Mean Accuracy Score - ADA: \", abc_cv_score.mean())\n",
    "\n",
    "sgb_cv_score = cross_val_score(sgb, df, labels, cv=KFold(5), scoring='accuracy')\n",
    "print(\"Mean Accuracy Score - GBC: \", sgb_cv_score.mean())"
   ]
  },
  {
   "cell_type": "markdown",
   "metadata": {},
   "source": [
    "Approach 3: CV as KFold, K = 5. Best one is Gradient Boosting, \n",
    "scoring method is different from others. I used make_scorer for a sanity check.\n"
   ]
  },
  {
   "cell_type": "code",
   "execution_count": 646,
   "metadata": {
    "scrolled": false
   },
   "outputs": [
    {
     "name": "stdout",
     "output_type": "stream",
     "text": [
      "Mean Accuracy Score - DTR:  0.9882352941176471\n",
      "Mean Accuracy Score - BAG:  0.9724705882352943\n",
      "Mean Accuracy Score - RFC:  0.9803921568627452\n",
      "Mean Accuracy Score - ADA:  0.9803921568627452\n",
      "Mean Accuracy Score - GBC:  0.9882352941176471\n"
     ]
    }
   ],
   "source": [
    "from sklearn.metrics.scorer import make_scorer\n",
    "scorer=make_scorer(accuracy_score, greater_is_better=True)\n",
    "\n",
    "clf_cv_score = cross_val_score(clf, df, labels, cv=KFold(5), scoring=scorer)\n",
    "print(\"Mean Accuracy Score - DTR: \", clf_cv_score.mean())\n",
    "\n",
    "bgc_cv_score = cross_val_score(bgc, df, labels, cv=KFold(5), scoring=scorer)\n",
    "print(\"Mean Accuracy Score - BAG: \", bgc_cv_score.mean())\n",
    "\n",
    "rfc_cv_score = cross_val_score(rfc, df, labels, cv=KFold(5), scoring=scorer)\n",
    "print(\"Mean Accuracy Score - RFC: \", rfc_cv_score.mean())\n",
    "\n",
    "abc_cv_score = cross_val_score(abc, df, labels, cv=KFold(5), scoring=scorer)\n",
    "print(\"Mean Accuracy Score - ADA: \", abc_cv_score.mean())\n",
    "\n",
    "sgb_cv_score = cross_val_score(sgb, df, labels, cv=KFold(5), scoring=scorer)\n",
    "print(\"Mean Accuracy Score - GBC: \", sgb_cv_score.mean())"
   ]
  },
  {
   "cell_type": "markdown",
   "metadata": {},
   "source": [
    "Gradient Boosting is selected from the cross validation process."
   ]
  },
  {
   "cell_type": "code",
   "execution_count": 647,
   "metadata": {},
   "outputs": [],
   "source": [
    "# Define parameters\n",
    "params = {\n",
    "        'n_estimators': list(np.linspace(10, 300, 10, dtype = int)),\n",
    "        'learning_rate': [0.01, 0.05, 0.1, 0.15],\n",
    "        'max_depth': [3, 4, 5, 6, 7],\n",
    "    'random_state': [seed],\n",
    "    'max_features': [10, 15, 20]\n",
    "        }"
   ]
  },
  {
   "cell_type": "code",
   "execution_count": 648,
   "metadata": {
    "scrolled": true
   },
   "outputs": [
    {
     "name": "stdout",
     "output_type": "stream",
     "text": [
      "Random\n",
      "Accuracy Score Train: 1.0\n",
      "[[39  0]\n",
      " [ 1 37]]\n",
      "Accuracy: 0.987012987012987\n",
      "{'random_state': 84, 'n_estimators': 300, 'max_features': 15, 'max_depth': 3, 'learning_rate': 0.15}\n"
     ]
    }
   ],
   "source": [
    "gbm = GradientBoostingClassifier()\n",
    "model = RandomizedSearchCV(estimator=gbm, param_distributions = params, scoring='accuracy', n_iter = 20,\n",
    "                              cv = 5 , n_jobs = -1)\n",
    "\n",
    "model.fit(train_x,train_y)\n",
    "\n",
    "\n",
    "print(\"Random\")\n",
    "\n",
    "trainypred1 = model.best_estimator_.predict(train_x)\n",
    "print (\"Accuracy Score Train:\", metrics.accuracy_score(train_y, trainypred1))\n",
    "\n",
    "y_pred9 = model.best_estimator_.predict(test_x)\n",
    "\n",
    "print(confusion_matrix(test_y, y_pred9))\n",
    "print(\"Accuracy:\",metrics.accuracy_score(test_y, y_pred9))\n",
    "\n",
    "print(model.best_params_)"
   ]
  },
  {
   "cell_type": "code",
   "execution_count": 649,
   "metadata": {},
   "outputs": [
    {
     "name": "stdout",
     "output_type": "stream",
     "text": [
      "Grid\n",
      "Accuracy Score Train: 1.0\n",
      "[[39  0]\n",
      " [ 0 38]]\n",
      "Accuracy: 1.0\n",
      "{'learning_rate': 0.13999999999999999, 'max_depth': 2, 'max_features': 13, 'n_estimators': 310}\n"
     ]
    }
   ],
   "source": [
    "print(\"Grid\")\n",
    "grid_search = {\n",
    "    'max_depth': [model.best_params_['max_depth'] - 1,\n",
    "                  model.best_params_['max_depth'],\n",
    "                  model.best_params_['max_depth'] + 1],\n",
    "    'learning_rate': [model.best_params_['learning_rate'] - 0.01,\n",
    "                      model.best_params_['learning_rate'],\n",
    "                      model.best_params_['learning_rate'] + 0.01],\n",
    "     'max_features': [model.best_params_['max_features'] - 2,\n",
    "                      model.best_params_['max_features'],\n",
    "                      model.best_params_['max_features'] + 2],\n",
    "    'n_estimators': [model.best_params_['n_estimators'] - 10, \n",
    "                     model.best_params_['n_estimators'], \n",
    "                     model.best_params_['n_estimators'] + 10]\n",
    "}\n",
    "\n",
    "clf = GradientBoostingClassifier()\n",
    "model = GridSearchCV(estimator = clf, param_grid = grid_search, \n",
    "                               cv = 5, scoring='accuracy', n_jobs = -1)\n",
    "model.fit(train_x, train_y)\n",
    "\n",
    "trainypred2 = model.best_estimator_.predict(train_x)\n",
    "print (\"Accuracy Score Train:\", metrics.accuracy_score(train_y, trainypred2))\n",
    "\n",
    "y_pred10 = model.best_estimator_.predict(test_x)\n",
    "\n",
    "print(confusion_matrix(test_y, y_pred10))\n",
    "print(\"Accuracy:\",metrics.accuracy_score(test_y, y_pred10))\n",
    "\n",
    "print(model.best_params_)"
   ]
  },
  {
   "cell_type": "code",
   "execution_count": 661,
   "metadata": {},
   "outputs": [
    {
     "data": {
      "image/png": "[encoded data removed]",
      "text/plain": [
       "<Figure size 720x504 with 2 Axes>"
      ]
     },
     "metadata": {
      "needs_background": "light"
     },
     "output_type": "display_data"
    }
   ],
   "source": [
    "figsize = (10,7)\n",
    "fontsize=14\n",
    "cm=confusion_matrix(test_y,y_pred10)\n",
    "fig = plt.figure(figsize=figsize)\n",
    "heatmap = sns.heatmap(cm, annot=True, fmt=\"d\")\n",
    "\n",
    "heatmap.yaxis.set_ticklabels(heatmap.yaxis.get_ticklabels(), rotation=0, ha='right', fontsize=fontsize)\n",
    "heatmap.xaxis.set_ticklabels(heatmap.xaxis.get_ticklabels(), rotation=45, ha='right', fontsize=fontsize)\n",
    "plt.ylabel('True label')\n",
    "plt.xlabel('Predicted label')\n",
    "plt.savefig('consufion_matrix.png', dpi=100)"
   ]
  }
 ],
 "metadata": {
  "kernelspec": {
   "display_name": "Python 3",
   "language": "python",
   "name": "python3"
  },
  "language_info": {
   "codemirror_mode": {
    "name": "ipython",
    "version": 3
   },
   "file_extension": ".py",
   "mimetype": "text/x-python",
   "name": "python",
   "nbconvert_exporter": "python",
   "pygments_lexer": "ipython3",
   "version": "3.7.4"
  }
 },
 "nbformat": 4,
 "nbformat_minor": 2
}
